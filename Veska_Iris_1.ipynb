{
 "cells": [
  {
   "cell_type": "markdown",
   "metadata": {},
   "source": [
    "# lambda neuroscientific_ideas, math_models, program_code: deep_learning_algorithm"
   ]
  },
  {
   "cell_type": "markdown",
   "metadata": {},
   "source": [
    "## Невронните мрежи - лесни и интересни"
   ]
  },
  {
   "cell_type": "markdown",
   "metadata": {},
   "source": [
    "                                                                                                         Веска Нончева "
   ]
  },
  {
   "cell_type": "markdown",
   "metadata": {},
   "source": [
    "\n",
    "###  Резюме:  В тази работа ще представим основните идеи от биологията, математическите формули и програмния код, които се крият зад една (дълбока) невронна мрежа. Целта е да придобиете интуитивно разбиране на концепциите и инструментите за изграждане на обучаващи се системи."
   ]
  },
  {
   "cell_type": "markdown",
   "metadata": {},
   "source": [
    "# Увод"
   ]
  },
  {
   "cell_type": "markdown",
   "metadata": {},
   "source": [
    "Неврон или нервна клетка е електрически възбудима клетка, която комуникира с други клетки в организма. Всяко поведение на човека е израз на активността на невроните. В биологията синапс („синаптична връзка“), обозначава наличието на специфичен контакт между мембраните на две клетки, от които поне едната е нервна (неврон). Този контакт предава нервно възбуждане (нервен импулс) от неврона — на другата клетка, която може също да е неврон, или ефекторна клетка, например мускулно влакно. \n",
    "\n",
    "Невроните и невронните вериги се моделират на базата на клетъчната и синаптичната биофизика.\n",
    "\n",
    "Според Розенблат, невронът приема набор от двоични входове от близки неврони, умножава всеки вход по тегло (което представя силата на синапса за всеки близък неврон) и нормира (ограничава) сумата от тези претеглени входове, за да изведе 1, ако сумата е достатъчно голяма и 0 в противен случай. По този начин невроните се активират (задействат) или не се задействат.\n",
    "Ученето в биологичните системи включва корекции на синаптичните връзки между клетките.\n",
    "\n",
    "Въпреки че невроните са бавни и ненадеждни в сравнение с настолен компютър, мозъкът е най-сложната изчислителна машина, позната до момента."
   ]
  },
  {
   "cell_type": "markdown",
   "metadata": {},
   "source": [
    "Вдъхновена от същността на биологичната нервна система, структурата на изкуствената невронна мрежа (ANN) е разработена за да обработва информацията по начина, по който мозъкът обработва информация. Т.е. голям брой силно свързани помежду си обработващи елементи (неврони), които работят заедно, кара невронната мрежа да решава сложни задачи. \n",
    "Точно както хората се учат чрез примери, така и невронната мрежа се учи чрез примери. \n",
    "Ученето в биологични системи включва корекции на синаптичните връзки, а ученето в изкуствената невронна мрежа включва актуализиране на теглата в невронната мрежа."
   ]
  },
  {
   "cell_type": "markdown",
   "metadata": {},
   "source": [
    "### Извод: Създаването на невронна мрежа и нейното обучение започва с построяването на математически модел на работата на нервната система и мозъка."
   ]
  },
  {
   "cell_type": "markdown",
   "metadata": {},
   "source": [
    "# Задача"
   ]
  },
  {
   "cell_type": "markdown",
   "metadata": {},
   "source": [
    "Красотата на цветята Ирис е несравнима. \n",
    "Имаме данни за 3 биологични вида, предоставени ни от британския ботаник Роналд Фишер ([Fisher,1936]).\n",
    "Интересуваме се дали едно цвете е от вида Iris versicolor - вид, с пра родина Северна Америка, който се характеризира с малки размери (едва надвишаващ 60 см височина) и с красиви яркозелени листа и вълнообразни венчелистчета. \n",
    "За тази цел ще създадем невронна мрежа, която от данните може да се научи да анализира характеристики на цветето и да даде отговор на този въпрос.\n",
    "Т.е. Задачата за прогнозиране на биологичния вид на едно цвете обобщихме като задача за построяване на невронна мрежа, обучена да прогнозира биологичния вид на цветя."
   ]
  },
  {
   "cell_type": "markdown",
   "metadata": {},
   "source": [
    "# Решение"
   ]
  },
  {
   "cell_type": "markdown",
   "metadata": {},
   "source": [
    "Ще построим невронна мрежа, решаваща подобни задачи, известни като задачи за класификация. Невронната мрежа е система, която сама намира зависимости в данните за да реши задачата.\n",
    "В случая човек не се стреми да строи математически модели на задачите, защото за повечето задачи тези модели биха били твърде сложни, дори нерешими от самия човек. \n",
    "Ние ще построим невронна мрежа и ще я обучим така, че тази невронна мрежа сама да реши задачата.\n",
    "Т.е. ние ще построим модел на обучение на невронна мрежа."
   ]
  },
  {
   "cell_type": "markdown",
   "metadata": {},
   "source": [
    "# Архитектура на невронната мрежа"
   ]
  },
  {
   "cell_type": "markdown",
   "metadata": {},
   "source": [
    "Идеята, предложена през 80-те години на миналия век за \"паралелно разпределена обработка\", при която възлите на изкуствена мрежа се обучават едновременно, най-накрая става реалност. "
   ]
  },
  {
   "cell_type": "markdown",
   "metadata": {},
   "source": [
    "При дълбоките невронни мрежи работим със слоеве. В процеса на обучение на невронната мрежа данните преминават през слоеве."
   ]
  },
  {
   "cell_type": "markdown",
   "metadata": {},
   "source": [
    "Ще построим невронна мрежа, която се състои от три слоя: входен слой за подаване на данните към модела на обучение на невронната мрежа, скрит слой, който се научава да прогнозира вида на цветето и изходен слой, който извежда научените резултати (прогнозите). Графиката на тази невронна мрежа е представена по-надолу в текста.\n",
    "Входният слой на невронната мрежа има четири входни неврона, оцветени в червен цвят, един скрити слой с четири скрити неврона, оцветени в син цвят и изходният слой има един изходен неврон, оцветен в зелен цвят.\n",
    "Нашият резултат всъщност ще бъде вероятност. Ще дефинираме праг за закръгляне на тази вероятност до 0 или 1. Този праг ще бъде 0,5. "
   ]
  },
  {
   "cell_type": "markdown",
   "metadata": {},
   "source": [
    "# Алгоритъм за обучение на невронната мрежа"
   ]
  },
  {
   "cell_type": "markdown",
   "metadata": {},
   "source": [
    "Информацията в невронната мрежа протича от ляво на дясно, т.е. от входа към изхода. В нашата задача имаме четири числови характеристики на цветята, които пристигат до входните неврони от първия ред. След това тези четири числа се умножават по набор от тегла (първо инициализирани на случаен принцип и по-късно оптимизирани)."
   ]
  },
  {
   "cell_type": "markdown",
   "metadata": {},
   "source": [
    "След това върху резултата от това умножение се прилага функция за активиране. Този нов набор от числа се превръща в невроните в нашия скрит слой. Тези неврони отново се умножават по другия набор от теглата на скрития слой (произволно инициализирани) с функция за активиране, приложена към този резултат. Крайният резултат, който получаваме, е едно число - прогнозираната вероятност. "
   ]
  },
  {
   "cell_type": "markdown",
   "metadata": {},
   "source": [
    "След като имаме прогноза, ние я сравняваме с истинския резултат. За да оптимизираме теглата, за да направим нашите прогнози по-точни (тъй като в момента нашите данни се умножават по произволни тегла, за да дадем някаква прогноза), първо трябва да изчислим колко далеч е нашата прогноза от действителната стойност. След като имаме тази загуба, изчисляваме градиентите по отношение на всяко тегло."
   ]
  },
  {
   "cell_type": "markdown",
   "metadata": {},
   "source": [
    "Градиентите ни казват количеството, с което трябва да увеличим или намалим всеки параметър на теглото, за да сведем загубата до минимум. Всички тегла в мрежата се актуализират, докато повтаряме целия процес с второто наблюдение (втория ред от таблицата с входните данни), после с третото и т.н."
   ]
  },
  {
   "cell_type": "markdown",
   "metadata": {},
   "source": [
    "След като всички входни данни са били използвани за оптимизиране на теглата, ние казваме, че една епоха е отминала. Повтаряме този процес за няколко епохи, докато загубата ни спре да намалява."
   ]
  },
  {
   "cell_type": "markdown",
   "metadata": {},
   "source": [
    "Невронната мрежа се състои от куп умножения и събирания. Този процес е линеен. Функцията за активиране добавя нелинейност към нашата мрежа и й позволява да научи сложни функции."
   ]
  },
  {
   "cell_type": "markdown",
   "metadata": {},
   "source": [
    "Ще използваме tanh() и sigmoid() функции за активиране в нашата невронна мрежа."
   ]
  },
  {
   "cell_type": "markdown",
   "metadata": {},
   "source": [
    "#   Математиката в невронната мрежа"
   ]
  },
  {
   "cell_type": "markdown",
   "metadata": {},
   "source": [
    "Ще видим как числата преминават през описаната по-горе невронна мрежа, като изпишем уравненията за едно наблюдение (един входен ред от матрицата с данни)."
   ]
  },
  {
   "cell_type": "markdown",
   "metadata": {},
   "source": [
    "Разглеждаме първия ред на матрицата с входни данни (т.е. първото наблюдение). Изходът в първия неврон на първия скрит слой е $z^{[1](1)}$. Ще обобщим резултата: Изходът в $i$ неврон на първия слой е $z^{[1](i)}$."
   ]
  },
  {
   "cell_type": "markdown",
   "metadata": {},
   "source": [
    " $ z^{[1](i)}=W^{[1]}x^{(i)}+b^{[1](i)}    \\tag{1}$"
   ]
  },
  {
   "cell_type": "markdown",
   "metadata": {},
   "source": [
    "За активирането му ще използваме функцията $tanh$."
   ]
  },
  {
   "cell_type": "markdown",
   "metadata": {},
   "source": [
    " $a^{[1](i)}= tanh (z^{[1](i)})   \\tag{2}$ "
   ]
  },
  {
   "cell_type": "markdown",
   "metadata": {},
   "source": [
    "След това ще изчислим стойността за последния (изходния) слой, използвайки стойностите на скрития слой $a^{(i)}$."
   ]
  },
  {
   "cell_type": "markdown",
   "metadata": {},
   "source": [
    "$z^{[2](i)}=W^{[2]}a^{(i)}+b^{[2](i)}      \\tag{3}$"
   ]
  },
  {
   "cell_type": "markdown",
   "metadata": {},
   "source": [
    "Накрая ще използваме функцията за активиране sigmoid() и ще получим търсената вероятност $\\hat{y}^{(i)}$."
   ]
  },
  {
   "cell_type": "markdown",
   "metadata": {},
   "source": [
    "$\\hat{y}^{(i)}=a^{[2](i)}={\\sigma}(z^{[2](i)})       \\tag{4}$"
   ]
  },
  {
   "cell_type": "markdown",
   "metadata": {},
   "source": [
    "$\n",
    "y^{(i)}_{prediction}\n",
    "= \\left\\{\n",
    "    \\begin{array}\\\\\n",
    "        1 & \\mbox{if } \\  a^{[2](i)} > 0,5  \\\\ \\tag{5}\n",
    "        0 & \\mbox{else.}\n",
    "    \\end{array}\n",
    "\\right.\n",
    "$            "
   ]
  },
  {
   "cell_type": "markdown",
   "metadata": {},
   "source": [
    "За функция на загубите $J$ ще използваме Binary Cross Entropy loss function, където $y$ е реалната стойност, а $\\hat{y}\\$ е предсказания резултат."
   ]
  },
  {
   "cell_type": "markdown",
   "metadata": {},
   "source": [
    "$ J=-\\frac{1}{m}\\sum_{i=1}^{m} (y^{(i)}log(\\hat{y}^{(i)})+(1-y^{(i)})log(1-\\hat{y}^{(i)}))  \\tag{6}$"
   ]
  },
  {
   "cell_type": "markdown",
   "metadata": {},
   "source": [
    "### Backpropagation"
   ]
  },
  {
   "cell_type": "markdown",
   "metadata": {},
   "source": [
    "Ще изчислим градиента на функцията на загуба $J$ по отношение на параметрите."
   ]
  },
  {
   "cell_type": "markdown",
   "metadata": {},
   "source": [
    "Ще пресметнем тройката производни\n",
    "$(dW^{[l]}, db^{[l]}, dA^{[l-1]})  \\tag{7}$\n",
    "където $l$ е номера на слоя."
   ]
  },
  {
   "cell_type": "markdown",
   "metadata": {},
   "source": [
    "Първо диференцираме функцията на загубите по теглата $W$ от текущия слой и получаваме:\n",
    "\n",
    "$dW^{[l]} = \\frac{\\partial \\mathcal{L} }{\\partial W^{[l]}} = \\frac{1}{m} dZ^{[l]} A^{[l-1] T} \\tag{8}$"
   ]
  },
  {
   "cell_type": "markdown",
   "metadata": {},
   "source": [
    "След това  диференцираме функцията на загубите по изместването $b$ на текущия слой. $ db^{[l]} = \\frac{\\partial \\mathcal{L} }{\\partial b^{[l]}} = \\frac{1}{m} \\sum_{i = 1}^{m} dZ^{[l](i)}\\tag{9}$\n",
    "\n",
    "Накрая изчисляваме производната на функцията на загубите по $A$ на предишния слой.\n",
    "\n",
    "$ dA^{[l-1]} = \\frac{\\partial \\mathcal{L} }{\\partial A^{[l-1]}} = W^{[l] T} dZ^{[l]} \\tag{10}$"
   ]
  },
  {
   "cell_type": "markdown",
   "metadata": {},
   "source": [
    "Тъй като нашата невронна мрежа има само един скрит слой, първо изчисляваме градиентите за последния (изходния) слой и след това за средния (скрития) слой. С други думи, първо се изчисляват градиентите за теглата, които се намират между изходния и скрития слой. След това, използвайки ги, изчисляваме и градиентите за теглата, които се намират между скрития и входния слой."
   ]
  },
  {
   "cell_type": "markdown",
   "metadata": {},
   "source": [
    "Формулите, които ни показват малката стойност, с която трябва да увеличим или намалим теглото, така че загубата $J$ да намалее, са:"
   ]
  },
  {
   "cell_type": "markdown",
   "metadata": {},
   "source": [
    "$dZ^{[2]} = A^{[2]} - Y$"
   ]
  },
  {
   "cell_type": "markdown",
   "metadata": {},
   "source": [
    "$dW^{[2]} = \\frac{1}{m} dZ^{[2]}A^{[1]^T}$"
   ]
  },
  {
   "cell_type": "markdown",
   "metadata": {},
   "source": [
    "$db^{[2]} = \\frac{1}{m}\\sum dZ^{[2]}$"
   ]
  },
  {
   "cell_type": "markdown",
   "metadata": {},
   "source": [
    "$dZ^{[1]} = W^{[2]^T} * g^{[1]'} Z^{[1]}$ където $g$ е активиращата функция."
   ]
  },
  {
   "cell_type": "markdown",
   "metadata": {},
   "source": [
    "$dW^{[1]} = \\frac{1}{m}dZ^{[1]}X^{T}$"
   ]
  },
  {
   "cell_type": "markdown",
   "metadata": {},
   "source": [
    "$db^{[1]} = \\frac{1}{m}\\sum dZ^{[1]}$"
   ]
  },
  {
   "cell_type": "markdown",
   "metadata": {},
   "source": [
    "# Програмна реализация на Python"
   ]
  },
  {
   "cell_type": "markdown",
   "metadata": {},
   "source": [
    "Ще имплементираме всички формули в код."
   ]
  },
  {
   "cell_type": "code",
   "execution_count": 1,
   "metadata": {},
   "outputs": [],
   "source": [
    "import pandas as pd\n",
    "from typing import Tuple\n",
    "import numpy as np"
   ]
  },
  {
   "cell_type": "code",
   "execution_count": 2,
   "metadata": {},
   "outputs": [],
   "source": [
    "iris_data = pd.read_csv(\"https://archive.ics.uci.edu/ml/machine-learning-databases/iris/iris.data\",header=None)"
   ]
  },
  {
   "cell_type": "code",
   "execution_count": 3,
   "metadata": {},
   "outputs": [
    {
     "data": {
      "text/html": [
       "<div>\n",
       "<style scoped>\n",
       "    .dataframe tbody tr th:only-of-type {\n",
       "        vertical-align: middle;\n",
       "    }\n",
       "\n",
       "    .dataframe tbody tr th {\n",
       "        vertical-align: top;\n",
       "    }\n",
       "\n",
       "    .dataframe thead th {\n",
       "        text-align: right;\n",
       "    }\n",
       "</style>\n",
       "<table border=\"1\" class=\"dataframe\">\n",
       "  <thead>\n",
       "    <tr style=\"text-align: right;\">\n",
       "      <th></th>\n",
       "      <th>0</th>\n",
       "      <th>1</th>\n",
       "      <th>2</th>\n",
       "      <th>3</th>\n",
       "      <th>4</th>\n",
       "    </tr>\n",
       "  </thead>\n",
       "  <tbody>\n",
       "    <tr>\n",
       "      <th>0</th>\n",
       "      <td>5.1</td>\n",
       "      <td>3.5</td>\n",
       "      <td>1.4</td>\n",
       "      <td>0.2</td>\n",
       "      <td>Iris-setosa</td>\n",
       "    </tr>\n",
       "    <tr>\n",
       "      <th>1</th>\n",
       "      <td>4.9</td>\n",
       "      <td>3.0</td>\n",
       "      <td>1.4</td>\n",
       "      <td>0.2</td>\n",
       "      <td>Iris-setosa</td>\n",
       "    </tr>\n",
       "    <tr>\n",
       "      <th>2</th>\n",
       "      <td>4.7</td>\n",
       "      <td>3.2</td>\n",
       "      <td>1.3</td>\n",
       "      <td>0.2</td>\n",
       "      <td>Iris-setosa</td>\n",
       "    </tr>\n",
       "    <tr>\n",
       "      <th>3</th>\n",
       "      <td>4.6</td>\n",
       "      <td>3.1</td>\n",
       "      <td>1.5</td>\n",
       "      <td>0.2</td>\n",
       "      <td>Iris-setosa</td>\n",
       "    </tr>\n",
       "    <tr>\n",
       "      <th>4</th>\n",
       "      <td>5.0</td>\n",
       "      <td>3.6</td>\n",
       "      <td>1.4</td>\n",
       "      <td>0.2</td>\n",
       "      <td>Iris-setosa</td>\n",
       "    </tr>\n",
       "    <tr>\n",
       "      <th>...</th>\n",
       "      <td>...</td>\n",
       "      <td>...</td>\n",
       "      <td>...</td>\n",
       "      <td>...</td>\n",
       "      <td>...</td>\n",
       "    </tr>\n",
       "    <tr>\n",
       "      <th>145</th>\n",
       "      <td>6.7</td>\n",
       "      <td>3.0</td>\n",
       "      <td>5.2</td>\n",
       "      <td>2.3</td>\n",
       "      <td>Iris-virginica</td>\n",
       "    </tr>\n",
       "    <tr>\n",
       "      <th>146</th>\n",
       "      <td>6.3</td>\n",
       "      <td>2.5</td>\n",
       "      <td>5.0</td>\n",
       "      <td>1.9</td>\n",
       "      <td>Iris-virginica</td>\n",
       "    </tr>\n",
       "    <tr>\n",
       "      <th>147</th>\n",
       "      <td>6.5</td>\n",
       "      <td>3.0</td>\n",
       "      <td>5.2</td>\n",
       "      <td>2.0</td>\n",
       "      <td>Iris-virginica</td>\n",
       "    </tr>\n",
       "    <tr>\n",
       "      <th>148</th>\n",
       "      <td>6.2</td>\n",
       "      <td>3.4</td>\n",
       "      <td>5.4</td>\n",
       "      <td>2.3</td>\n",
       "      <td>Iris-virginica</td>\n",
       "    </tr>\n",
       "    <tr>\n",
       "      <th>149</th>\n",
       "      <td>5.9</td>\n",
       "      <td>3.0</td>\n",
       "      <td>5.1</td>\n",
       "      <td>1.8</td>\n",
       "      <td>Iris-virginica</td>\n",
       "    </tr>\n",
       "  </tbody>\n",
       "</table>\n",
       "<p>150 rows × 5 columns</p>\n",
       "</div>"
      ],
      "text/plain": [
       "       0    1    2    3               4\n",
       "0    5.1  3.5  1.4  0.2     Iris-setosa\n",
       "1    4.9  3.0  1.4  0.2     Iris-setosa\n",
       "2    4.7  3.2  1.3  0.2     Iris-setosa\n",
       "3    4.6  3.1  1.5  0.2     Iris-setosa\n",
       "4    5.0  3.6  1.4  0.2     Iris-setosa\n",
       "..   ...  ...  ...  ...             ...\n",
       "145  6.7  3.0  5.2  2.3  Iris-virginica\n",
       "146  6.3  2.5  5.0  1.9  Iris-virginica\n",
       "147  6.5  3.0  5.2  2.0  Iris-virginica\n",
       "148  6.2  3.4  5.4  2.3  Iris-virginica\n",
       "149  5.9  3.0  5.1  1.8  Iris-virginica\n",
       "\n",
       "[150 rows x 5 columns]"
      ]
     },
     "execution_count": 3,
     "metadata": {},
     "output_type": "execute_result"
    }
   ],
   "source": [
    "iris_data"
   ]
  },
  {
   "cell_type": "code",
   "execution_count": 4,
   "metadata": {},
   "outputs": [],
   "source": [
    "def split(df: pd.DataFrame, perc_test: float) -> Tuple[pd.DataFrame, pd.DataFrame]:\n",
    "    assert 0 < perc_test < 1, f\"perc_test must be between 0 and 1, but is {perc_test}\"\n",
    "    # permute indexes\n",
    "    random_index = np.random.permutation(df.index)\n",
    "    print(\"Permuted indexes:\", random_index)\n",
    "\n",
    "    # take (100*perc_test)% last as training sample and the rest as test\n",
    "    df_test = df.loc[random_index[:round(len(df.index) * perc_test)], :]\n",
    "    df_train = df.loc[random_index[round(len(df.index) * perc_test):], :]\n",
    "\n",
    "    return df_train, df_test"
   ]
  },
  {
   "cell_type": "code",
   "execution_count": 5,
   "metadata": {},
   "outputs": [
    {
     "name": "stdout",
     "output_type": "stream",
     "text": [
      "Permuted indexes: [ 23 129  77 122  95 144 148  83 133 108 138  31  61  88 126  22  86 116\n",
      "  50 101  81  63 118  98  30   8 134  11  24  78 136 106  37  96  67 109\n",
      "  80  46  20  13  66  41  75 146  54 110   6  14 112  52 111 141 124  17\n",
      "  35  45  51  32  43   3 113  34 125  15 114 123  91 120  26 140 105  39\n",
      " 130   5  10 139  85 149  90  56  58  64  18 147  73  42   0 121 104   9\n",
      "  16  12  60  48  21  55  92  82  53  97  70  99  65   2  76 145 143  62\n",
      "  71  36  59 142 132  29  93 103 127  89  47 107   7  40  79 137  74 115\n",
      " 135 128 102  68  72 100   1  19  33  69  49  38  27  84   4  87  44 117\n",
      " 119  94  57  28  25 131]\n"
     ]
    }
   ],
   "source": [
    "iris_data, iris_test = split(iris_data, perc_test=0.20)\n",
    "# iris_data\n",
    "# iris_test"
   ]
  },
  {
   "cell_type": "code",
   "execution_count": 6,
   "metadata": {},
   "outputs": [
    {
     "data": {
      "text/plain": [
       "(4, 120)"
      ]
     },
     "execution_count": 6,
     "metadata": {},
     "output_type": "execute_result"
    }
   ],
   "source": [
    "X=iris_data.drop(4,axis=1)*1.0\n",
    "X=X.T\n",
    "X=X.values \n",
    "X.shape\n",
    "#X.describe().T"
   ]
  },
  {
   "cell_type": "code",
   "execution_count": 7,
   "metadata": {},
   "outputs": [
    {
     "data": {
      "text/plain": [
       "(1, 120)"
      ]
     },
     "execution_count": 7,
     "metadata": {},
     "output_type": "execute_result"
    }
   ],
   "source": [
    "targets=iris_data[[4]]\n",
    "Y=targets.replace({'Iris-setosa':0.0, 'Iris-versicolor':1., 'Iris-virginica':1.})\n",
    "Y=Y.T\n",
    "Y=Y.values\n",
    "Y\n",
    "Y.shape"
   ]
  },
  {
   "cell_type": "code",
   "execution_count": 8,
   "metadata": {},
   "outputs": [
    {
     "data": {
      "text/plain": [
       "120"
      ]
     },
     "execution_count": 8,
     "metadata": {},
     "output_type": "execute_result"
    }
   ],
   "source": [
    "shape_X=X.shape\n",
    "shape_Y=Y.shape\n",
    "m=X.shape[1]\n",
    "m"
   ]
  },
  {
   "cell_type": "markdown",
   "metadata": {},
   "source": [
    "Слоевете на невронната мрежа са функции, които извършват трансформация на данните, които преминават през тях. Обучението в дълбоките невронни мрежи се състои в намиране на параметрите на всеки слой (т.е. на стойностите на теглата и отклоненията). Моделът постепенно оптимизира своите параметри като се опитва да намали разликата между предсказаните и реалните стойности. Този процес представя дълбокото обучение на неврони мрежи."
   ]
  },
  {
   "cell_type": "code",
   "execution_count": 9,
   "metadata": {},
   "outputs": [],
   "source": [
    "def sigmoid(x):\n",
    "    s = 1/(1+np.exp(-x))\n",
    "    return s"
   ]
  },
  {
   "cell_type": "code",
   "execution_count": 10,
   "metadata": {},
   "outputs": [],
   "source": [
    "def layer_sizes(X, Y):\n",
    "    n_x = X.shape[0] \n",
    "    n_h = 4\n",
    "    n_y = Y.shape[0] \n",
    "    return (n_x, n_h, n_y)"
   ]
  },
  {
   "cell_type": "code",
   "execution_count": 11,
   "metadata": {},
   "outputs": [],
   "source": [
    "def initialize_parameters(n_x, n_h, n_y):\n",
    "    np.random.seed(2) \n",
    "    W1 = np.random.randn(n_h, n_x) * 0.01\n",
    "    b1 = np.zeros((n_h, 1))\n",
    "    W2 = np.random.randn(n_y, n_h) * 0.01\n",
    "    b2 = np.zeros((n_y, 1))\n",
    "    \n",
    "    assert (W1.shape == (n_h, n_x))\n",
    "    assert (b1.shape == (n_h, 1))\n",
    "    assert (W2.shape == (n_y, n_h))\n",
    "    assert (b2.shape == (n_y, 1))\n",
    "    \n",
    "    parameters = {\"W1\": W1,\n",
    "                  \"b1\": b1,\n",
    "                  \"W2\": W2,\n",
    "                  \"b2\": b2}\n",
    "    \n",
    "    return parameters"
   ]
  },
  {
   "cell_type": "code",
   "execution_count": 12,
   "metadata": {},
   "outputs": [],
   "source": [
    "def forward_propagation(X, parameters):\n",
    "    W1 = parameters[\"W1\"]\n",
    "    b1 = parameters[\"b1\"]\n",
    "    W2 = parameters[\"W2\"]\n",
    "    b2 = parameters[\"b2\"]\n",
    "    Z1 = np.dot(W1, X) + b1\n",
    "    A1 = np.tanh(Z1)\n",
    "    Z2 = np.dot(W2, A1) + b2\n",
    "    A2 = sigmoid(Z2) #np.tanh(Z2)   #sigmoid(Z2)\n",
    "    assert(A2.shape == (1, X.shape[1]))\n",
    "    ###\n",
    "    cache = {\"Z1\": Z1,\n",
    "             \"A1\": A1,\n",
    "             \"Z2\": Z2,\n",
    "             \"A2\": A2}\n",
    "    \n",
    "    return A2, cache"
   ]
  },
  {
   "cell_type": "code",
   "execution_count": 13,
   "metadata": {},
   "outputs": [],
   "source": [
    "def compute_cost(A2, Y, parameters):\n",
    "   \n",
    "    m = Y.shape[1] \n",
    "    logprobs = np.multiply(np.log(A2), Y) + np.multiply(np.log(1 - A2), 1 - Y)\n",
    "    cost = - np.sum(logprobs) * (1/m)\n",
    "    cost = np.squeeze(cost)      \n",
    "    assert(isinstance(cost, float))\n",
    "    \n",
    "    return cost"
   ]
  },
  {
   "cell_type": "code",
   "execution_count": 14,
   "metadata": {},
   "outputs": [],
   "source": [
    "def backward_propagation(parameters, cache, X, Y):\n",
    "    m = X.shape[1]\n",
    "    \n",
    "    W1 = parameters[\"W1\"]\n",
    "    W2 = parameters[\"W2\"]\n",
    "    A1 = cache[\"A1\"]\n",
    "    A2 = cache[\"A2\"]\n",
    "    dZ2 = A2 - Y\n",
    "    dW2 = (1/m) * np.dot(dZ2, A1.T)\n",
    "    db2 = (1/m) * np.sum(dZ2, axis = 1, keepdims = True)\n",
    "    dZ1 =  np.dot(W2.T, dZ2) * (1 - np.power(A1, 2))\n",
    "    dW1 = (1/m) * np.dot(dZ1, X.T)\n",
    "    db1 = (1/m) * np.sum(dZ1, axis = 1, keepdims = True)\n",
    "    grads = {\"dW1\": dW1,\n",
    "             \"db1\": db1,\n",
    "             \"dW2\": dW2,\n",
    "             \"db2\": db2}\n",
    "    \n",
    "    return grads\n"
   ]
  },
  {
   "cell_type": "code",
   "execution_count": 15,
   "metadata": {},
   "outputs": [],
   "source": [
    "def update_parameters(parameters, grads, learning_rate = 1.2):\n",
    "    W1 = parameters[\"W1\"]\n",
    "    b1 = parameters[\"b1\"]\n",
    "    W2 = parameters[\"W2\"]\n",
    "    b2 = parameters[\"b2\"]\n",
    "    dW1 = grads[\"dW1\"]\n",
    "    db1 = grads[\"db1\"]\n",
    "    dW2 = grads[\"dW2\"]\n",
    "    db2 = grads[\"db2\"]\n",
    "    W1 = W1 - learning_rate * dW1\n",
    "    b1 = b1 - learning_rate * db1\n",
    "    W2 = W2 - learning_rate * dW2\n",
    "    b2 = b2 - learning_rate * db2\n",
    "    parameters = {\"W1\": W1,\n",
    "                  \"b1\": b1,\n",
    "                  \"W2\": W2,\n",
    "                  \"b2\": b2}\n",
    "    \n",
    "    return parameters"
   ]
  },
  {
   "cell_type": "code",
   "execution_count": 16,
   "metadata": {},
   "outputs": [],
   "source": [
    "def nn_model(X, Y, n_h, num_iterations = 10000, print_cost=False):\n",
    "    np.random.seed(3)\n",
    "    n_x = layer_sizes(X, Y)[0]\n",
    "    n_y = layer_sizes(X, Y)[2]\n",
    "    parameters = initialize_parameters(n_x,n_h,n_y)\n",
    "    W1 = parameters[\"W1\"]\n",
    "    b1 = parameters[\"b1\"]\n",
    "    W2 = parameters[\"W2\"]\n",
    "    b2 = parameters[\"b2\"]\n",
    "    for i in range(0, num_iterations):\n",
    "        A2, cache = forward_propagation(X,parameters)\n",
    "        cost = compute_cost(A2, Y, parameters)\n",
    "        grads = backward_propagation(parameters, cache, X, Y)\n",
    "        parameters = update_parameters(parameters, grads)\n",
    "     \n",
    "        if print_cost and i % 100 == 0:\n",
    "            print (\"Cost after iteration %i: %f\" %(i, cost))\n",
    "\n",
    "    return parameters"
   ]
  },
  {
   "cell_type": "code",
   "execution_count": 17,
   "metadata": {},
   "outputs": [],
   "source": [
    "def predict(parameters, X):\n",
    "    \n",
    "    A2, cache = forward_propagation(X,parameters)\n",
    "    predictions = (A2 > 0.5)\n",
    "    \n",
    "    return predictions\n"
   ]
  },
  {
   "cell_type": "code",
   "execution_count": 18,
   "metadata": {},
   "outputs": [
    {
     "data": {
      "text/plain": [
       "120"
      ]
     },
     "execution_count": 18,
     "metadata": {},
     "output_type": "execute_result"
    }
   ],
   "source": [
    "X.shape[1]"
   ]
  },
  {
   "cell_type": "code",
   "execution_count": 19,
   "metadata": {},
   "outputs": [
    {
     "name": "stdout",
     "output_type": "stream",
     "text": [
      "Cost after iteration 0: 0.693430\n",
      "Cost after iteration 100: 0.038017\n",
      "Cost after iteration 200: 0.006922\n",
      "Cost after iteration 300: 0.003797\n",
      "Cost after iteration 400: 0.002615\n",
      "Cost after iteration 500: 0.001993\n",
      "Cost after iteration 600: 0.001610\n",
      "Cost after iteration 700: 0.001351\n",
      "Cost after iteration 800: 0.001163\n",
      "Cost after iteration 900: 0.001021\n"
     ]
    }
   ],
   "source": [
    "parameters = nn_model(X, Y, n_h = 4, num_iterations = 1000, print_cost=True)"
   ]
  },
  {
   "cell_type": "code",
   "execution_count": 20,
   "metadata": {},
   "outputs": [],
   "source": [
    "# parameters = nn_model(X, Y, n_h = 6, num_iterations = 1000, print_cost=True)"
   ]
  },
  {
   "cell_type": "code",
   "execution_count": 21,
   "metadata": {},
   "outputs": [
    {
     "data": {
      "text/plain": [
       "array([[ True,  True, False,  True,  True,  True,  True, False, False,\n",
       "        False,  True, False,  True,  True,  True,  True, False, False,\n",
       "         True,  True,  True,  True,  True, False, False, False,  True,\n",
       "        False, False, False,  True, False,  True, False,  True,  True,\n",
       "         True,  True, False,  True,  True, False,  True, False, False,\n",
       "         True,  True,  True,  True,  True,  True,  True, False,  True,\n",
       "         True, False, False,  True,  True, False, False, False,  True,\n",
       "        False, False,  True,  True,  True,  True,  True,  True,  True,\n",
       "         True, False,  True,  True,  True,  True,  True, False,  True,\n",
       "         True,  True, False,  True,  True,  True,  True, False,  True,\n",
       "        False, False,  True,  True,  True,  True,  True,  True,  True,\n",
       "         True,  True,  True, False, False, False,  True, False, False,\n",
       "        False,  True, False,  True, False,  True,  True,  True,  True,\n",
       "        False, False,  True]])"
      ]
     },
     "execution_count": 21,
     "metadata": {},
     "output_type": "execute_result"
    }
   ],
   "source": [
    "predictions = predict(parameters, X)\n",
    "predictions"
   ]
  },
  {
   "cell_type": "code",
   "execution_count": 22,
   "metadata": {},
   "outputs": [
    {
     "name": "stdout",
     "output_type": "stream",
     "text": [
      "Accuracy: 100%\n"
     ]
    }
   ],
   "source": [
    "print ('Accuracy: %d' % float((np.dot(Y,predictions.T) + np.dot(1-Y,1-predictions.T))/float(Y.size)*100) + '%')"
   ]
  },
  {
   "cell_type": "code",
   "execution_count": 23,
   "metadata": {},
   "outputs": [
    {
     "data": {
      "text/plain": [
       "array([[0., 1., 1., 1., 1., 1., 1., 1., 1., 1., 1., 0., 1., 1., 1., 0.,\n",
       "        1., 1., 1., 1., 1., 1., 1., 1., 0., 0., 1., 0., 0., 1.]])"
      ]
     },
     "execution_count": 23,
     "metadata": {},
     "output_type": "execute_result"
    }
   ],
   "source": [
    "X=iris_test.drop(4,axis=1)*1.0\n",
    "X=X.T\n",
    "X=X.values \n",
    "predictions = predict(parameters, X)\n",
    "\n",
    "targets=iris_test[[4]]\n",
    "Y=targets.replace({'Iris-setosa':0., 'Iris-versicolor':1., 'Iris-virginica':1.})\n",
    "Y=Y.T\n",
    "Y=Y.values\n",
    "Y"
   ]
  },
  {
   "cell_type": "code",
   "execution_count": 24,
   "metadata": {},
   "outputs": [
    {
     "name": "stdout",
     "output_type": "stream",
     "text": [
      "Accuracy: 100%\n"
     ]
    }
   ],
   "source": [
    "print ('Accuracy: %d' % float((np.dot(Y,predictions.T) + np.dot(1-Y,1-predictions.T))/float(Y.size)*100) + '%')"
   ]
  },
  {
   "cell_type": "code",
   "execution_count": 25,
   "metadata": {},
   "outputs": [
    {
     "data": {
      "text/plain": [
       "(4, 30)"
      ]
     },
     "execution_count": 25,
     "metadata": {},
     "output_type": "execute_result"
    }
   ],
   "source": [
    "X.shape"
   ]
  },
  {
   "cell_type": "code",
   "execution_count": 26,
   "metadata": {},
   "outputs": [
    {
     "data": {
      "text/plain": [
       "(1, 30)"
      ]
     },
     "execution_count": 26,
     "metadata": {},
     "output_type": "execute_result"
    }
   ],
   "source": [
    "Y.shape"
   ]
  },
  {
   "cell_type": "markdown",
   "metadata": {},
   "source": [
    "# Графика на невронната мрежа"
   ]
  },
  {
   "cell_type": "markdown",
   "metadata": {},
   "source": [
    "Ще представим архитектурата на нашата невронна мрежа с графиката:"
   ]
  },
  {
   "cell_type": "code",
   "execution_count": 27,
   "metadata": {},
   "outputs": [
    {
     "data": {
      "image/png": "[encoded data removed]",
      "text/plain": [
       "<Figure size 640x480 with 1 Axes>"
      ]
     },
     "metadata": {},
     "output_type": "display_data"
    }
   ],
   "source": [
    "import matplotlib.pyplot as plt\n",
    "\n",
    "circle1 = plt.Circle((0.1, 0.1), 0.06, color='r' )\n",
    "circle11 = plt.Circle((0.1, 0.35), 0.06, color='r')\n",
    "circle12 = plt.Circle((0.1, 0.6), 0.06, color='r')\n",
    "circle13 = plt.Circle((0.1, 0.85), 0.06, color='r')\n",
    "circle2 = plt.Circle((0.5, 0.1), 0.06, color='blue')\n",
    "circle21 = plt.Circle((0.5, 0.35), 0.06, color='blue')\n",
    "circle22 = plt.Circle((0.5, 0.6), 0.06, color='blue')\n",
    "circle23 = plt.Circle((0.5, 0.85), 0.06, color='blue')\n",
    "circle3 = plt.Circle((0.9, 0.49), 0.06, color='g', clip_on=False)\n",
    "\n",
    "fig, ax = plt.subplots() # note we must use plt.subplots, not plt.subplot\n",
    "# (or if you have an existing figure)\n",
    "# fig = plt.gcf()\n",
    "# ax = fig.gca()\n",
    "\n",
    "ax.annotate(\"\", xy=(0.42, 0.1), xytext=(0.18, 0.1),\n",
    "            arrowprops=dict(arrowstyle=\"->\"))\n",
    "ax.annotate(\"\", xy=(0.43, 0.3), xytext=(0.18, 0.1),\n",
    "            arrowprops=dict(arrowstyle=\"->\"))\n",
    "ax.annotate(\"\", xy=(0.45, 0.56), xytext=(0.18, 0.1),\n",
    "            arrowprops=dict(arrowstyle=\"->\"))\n",
    "ax.annotate(\"\", xy=(0.46, 0.78), xytext=(0.18, 0.1),\n",
    "            arrowprops=dict(arrowstyle=\"->\"))\n",
    "\n",
    "ax.annotate(\"\", xy=(0.42, 0.11), xytext=(0.18, 0.34), arrowprops=dict(arrowstyle=\"->\"))\n",
    "ax.annotate(\"\", xy=(0.43, 0.34), xytext=(0.18, 0.34), arrowprops=dict(arrowstyle=\"->\"))\n",
    "ax.annotate(\"\", xy=(0.43, 0.58), xytext=(0.18, 0.34), arrowprops=dict(arrowstyle=\"->\"))\n",
    "ax.annotate(\"\", xy=(0.44, 0.79), xytext=(0.18, 0.35), arrowprops=dict(arrowstyle=\"->\"))\n",
    "\n",
    "ax.annotate(\"\", xy=(0.42, 0.12), xytext=(0.18, 0.59),  arrowprops=dict(arrowstyle=\"->\"))\n",
    "ax.annotate(\"\", xy=(0.42, 0.35), xytext=(0.18, 0.59), arrowprops=dict(arrowstyle=\"->\"))\n",
    "ax.annotate(\"\", xy=(0.42, 0.58), xytext=(0.18, 0.59), arrowprops=dict(arrowstyle=\"->\"))\n",
    "ax.annotate(\"\", xy=(0.43, 0.80), xytext=(0.18, 0.59), arrowprops=dict(arrowstyle=\"->\"))\n",
    "\n",
    "ax.annotate(\"\", xy=(0.42, 0.12), xytext=(0.18, 0.83),  arrowprops=dict(arrowstyle=\"->\"))\n",
    "ax.annotate(\"\", xy=(0.42, 0.35), xytext=(0.18, 0.83), arrowprops=dict(arrowstyle=\"->\"))\n",
    "ax.annotate(\"\", xy=(0.43, 0.61), xytext=(0.18, 0.83), arrowprops=dict(arrowstyle=\"->\"))\n",
    "ax.annotate(\"\", xy=(0.43, 0.83), xytext=(0.18, 0.83), arrowprops=dict(arrowstyle=\"->\"))\n",
    "\n",
    "ax.annotate(\"\", xy=(0.83, 0.53), xytext=(0.58, 0.82), arrowprops=dict(arrowstyle=\"->\"))\n",
    "ax.annotate(\"\", xy=(0.83, 0.50), xytext=(0.58, 0.60), arrowprops=dict(arrowstyle=\"->\"))\n",
    "ax.annotate(\"\", xy=(0.83, 0.47), xytext=(0.58, 0.34), arrowprops=dict(arrowstyle=\"->\"))\n",
    "ax.annotate(\"\", xy=(0.83, 0.43), xytext=(0.58, 0.1), arrowprops=dict(arrowstyle=\"->\"))\n",
    "\n",
    "\n",
    "ax.add_patch(circle1)\n",
    "ax.add_patch(circle11)\n",
    "ax.add_patch(circle12)\n",
    "ax.add_patch(circle13)\n",
    "ax.add_patch(circle2)\n",
    "ax.add_patch(circle21)\n",
    "ax.add_patch(circle22)\n",
    "ax.add_patch(circle23)\n",
    "ax.add_patch(circle3)\n",
    "\n",
    "ax.set_axis_off()\n",
    "fig.suptitle(\"Архитектура на невронната мрежа\", fontsize=16)\n",
    "\n",
    "plt.show()"
   ]
  },
  {
   "cell_type": "markdown",
   "metadata": {},
   "source": [
    " # Дълбокото обучение"
   ]
  },
  {
   "cell_type": "markdown",
   "metadata": {},
   "source": [
    "Дълбокото обучение е форма на машинно обучение, която позволява на компютрите да се учат от опита и да разбират света от гледна точка на йерархия от концепции. Йерархията на понятията позволява на компютъра да научава сложни понятия, като ги изгражда от по-прости. Обикновено дълбоките невронни мрежи се състоят от десетки, дори стотици слоеве. Всеки слой може да се състои от стотици, дори хиляди неврони. Слоевете са функции, които извършват трансформация на данните, които преминават през тях. Параметрите на тези функции са теглата и отклоненията.  \n",
    "Независимо от сложността на архитектурата, обучението в дълбоките невронни мрежи се състои в намиране на параметрите на всеки слой (т.е. на стойностите на теглата и отклоненията). Моделът постепенно оптимизира своите параметри като се опитва да намали разликата между предсказаните и реалните стойности. Този процес представя дълбокото обучение на неврони мрежи. "
   ]
  },
  {
   "cell_type": "markdown",
   "metadata": {},
   "source": [
    "Дълбокото обучение включва обучение на внимателно проектирани дълбоки невронни мрежи и различните дизайнерски решения оказват влияние върху режима на обучение на тези дълбоки мрежи."
   ]
  },
  {
   "cell_type": "markdown",
   "metadata": {},
   "source": [
    "## Бъдеща работа"
   ]
  },
  {
   "cell_type": "markdown",
   "metadata": {},
   "source": [
    "### Построяване на многослоен персептронен модел (Multilayer Perceptron model) с библиотеката Keras"
   ]
  },
  {
   "cell_type": "markdown",
   "metadata": {},
   "source": [
    "# Извод"
   ]
  },
  {
   "cell_type": "markdown",
   "metadata": {},
   "source": [
    "В основите на съвременните самообучаващи се дълбоки невронни мрежи стоят съвременните теоритични резултати за работата на мозъка и техните математически модели, имплементирани в програмен код.\n",
    "Целта на тази работа е да покаже простите (елементарните) основи на мощния Изкуствен интелект."
   ]
  },
  {
   "cell_type": "markdown",
   "metadata": {},
   "source": [
    "## Литература"
   ]
  },
  {
   "cell_type": "markdown",
   "metadata": {},
   "source": [
    "[Fisher,1936] R. A. Fisher (1936). \"The use of multiple measurements in taxonomic problems\" (PDF). Annals of Eugenics. 7 (2): 179–188. doi:10.1111/j.1469-1809.1936.tb02137.x. hdl:2440/15227\n",
    "\n",
    "[Sawhney, 2018] Prateek Sawhney (2018).Planar-Data-Classification-with-One-Hidden-Layer, https://github.com/prateeksawhney97/Planar-Data-Classification-with-One-Hidden-Layer/blob/master/classifier.py at 2022-01-30\n",
    "\n",
    "[Stone, 2019] James Stone (2019.) \"Artificial Intelligence Engines: A Tutorial Introduction to the Mathematics of Deep Learning\"\n",
    "\n",
    "[Verma, 2020] Akshaj Verma (2020). \"Building A Neural Net from Scratch Using R - Part 2\", https://rviews.rstudio.com/2020/07/24/building-a-neural-net-from-scratch-using-r-part-2/ at 2022-01-30\n",
    "\n",
    "[Verma, 2020-1] Akshaj Verma (2020). \"Building A Neural Net from Scratch Using R - Part 1\",\n",
    "https://rviews.rstudio.com/2020/07/20/shallow-neural-net-from-scratch-using-r-part-1/ at 2022-01-30"
   ]
  }
 ],
 "metadata": {
  "kernelspec": {
   "display_name": "tf",
   "language": "python",
   "name": "tf"
  },
  "language_info": {
   "codemirror_mode": {
    "name": "ipython",
    "version": 3
   },
   "file_extension": ".py",
   "mimetype": "text/x-python",
   "name": "python",
   "nbconvert_exporter": "python",
   "pygments_lexer": "ipython3",
   "version": "3.7.11"
  }
 },
 "nbformat": 4,
 "nbformat_minor": 4
}
